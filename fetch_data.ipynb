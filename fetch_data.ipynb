{
 "cells": [
  {
   "cell_type": "code",
   "execution_count": 3,
   "metadata": {},
   "outputs": [],
   "source": [
    "import pandas as pd\n",
    "import requests\n",
    "import json\n",
    "import os\n",
    "from datetime import datetime, timedelta"
   ]
  },
  {
   "cell_type": "markdown",
   "metadata": {},
   "source": [
    "# Fetch Streamflow Data"
   ]
  },
  {
   "cell_type": "code",
   "execution_count": null,
   "metadata": {},
   "outputs": [
    {
     "name": "stdout",
     "output_type": "stream",
     "text": [
      "2024-12-23 11:45\n"
     ]
    },
    {
     "name": "stderr",
     "output_type": "stream",
     "text": [
      "/tmp/ipykernel_139539/1224773202.py:2: DtypeWarning: Columns (4,6,7) have mixed types. Specify dtype option on import or set low_memory=False.\n",
      "  df_existing = pd.read_csv('yellowstone6192500.csv')\n"
     ]
    }
   ],
   "source": [
    "if os.path.exists('yellowstone6192500.csv'):\n",
    "    df_existing = pd.read_csv('yellowstone6192500.csv')\n",
    "    most_recent_date = df_existing['datetime'].max()\n",
    "else:\n",
    "    most_recent_date = None\n"
   ]
  },
  {
   "cell_type": "code",
   "execution_count": 12,
   "metadata": {},
   "outputs": [
    {
     "name": "stdout",
     "output_type": "stream",
     "text": [
      "     agency_cd        id          datetime timezone discharge\n",
      "0         USGS  06192500  2024-12-23 10:00      MST      1210\n",
      "1         USGS  06192500  2024-12-23 10:15      MST      1200\n",
      "2         USGS  06192500  2024-12-23 10:30      MST      1210\n",
      "3         USGS  06192500  2024-12-23 10:45      MST      1210\n",
      "4         USGS  06192500  2024-12-23 11:00      MST      1200\n",
      "...        ...       ...               ...      ...       ...\n",
      "7858      USGS  06192500  2025-03-17 03:15      MDT      1160\n",
      "7859      USGS  06192500  2025-03-17 03:30      MDT      1170\n",
      "7860      USGS  06192500  2025-03-17 03:45      MDT      1160\n",
      "7861      USGS  06192500  2025-03-17 04:00      MDT      1180\n",
      "7862                None              None     None      None\n",
      "\n",
      "[7863 rows x 5 columns]\n"
     ]
    }
   ],
   "source": [
    "# example url format: https://waterservices.usgs.gov/nwis/iv/?format=rdb&sites=06192500&startDT=2024-12-22T04:10&endDT=2025-01-18T04:10&siteStatus=all\n",
    "\n",
    "# get the most recent data for 06192500\n",
    "usgs_site = '06192500'\n",
    "most_recent_datetime = datetime.strptime(most_recent_date, '%Y-%m-%d %H:%M')\n",
    "start_date = (most_recent_datetime - timedelta(hours=1)).strftime('%Y-%m-%dT%H')\n",
    "end_date = datetime.now().strftime('%Y-%m-%dT%H')\n",
    "url = f'https://waterservices.usgs.gov/nwis/iv/?format=rdb&sites={usgs_site}&startDT={start_date}&endDT={end_date}&siteStatus=all'\n",
    "response = requests.get(url)\n",
    "data = response.text\n",
    "\n",
    "# print(data)\n",
    "\n",
    "# parse the data\n",
    "# There  are 31  lines  of  metadata  at  the  beginning  of  the  file.  The  data  starts  on  line  32.  \n",
    "# The  data  is  tab-delimited  and the initial rows can  be deleted\n",
    "data = data.split('\\n')[32:]\n",
    "data = [line.split('\\t') for line in data]\n",
    "df = pd.DataFrame(data, columns=['agency_cd', 'id', 'datetime', 'timezone', 'temp', 'temp_quality', 'discharge', 'discharge_quality', 'gage_height', 'gage_height_quality'])\n",
    "df.drop(columns=['temp', 'temp_quality', 'discharge_quality', 'gage_height', 'gage_height_quality'], inplace=True)\n",
    "print(df)"
   ]
  },
  {
   "cell_type": "code",
   "execution_count": null,
   "metadata": {},
   "outputs": [
    {
     "name": "stderr",
     "output_type": "stream",
     "text": [
      "/tmp/ipykernel_139539/4279589922.py:1: DtypeWarning: Columns (4,6,7) have mixed types. Specify dtype option on import or set low_memory=False.\n",
      "  df_csv = pd.read_csv('yellowstone6192500.csv')\n"
     ]
    },
    {
     "name": "stdout",
     "output_type": "stream",
     "text": [
      "Headers are the same.\n",
      "Data saved to yellowstone6192500.csv\n"
     ]
    }
   ],
   "source": [
    "df_csv = pd.read_csv('yellowstone6192500.csv')\n",
    "columns_to_drop = ['temp', 'temp_quality', 'discharge_quality', 'gage_height', 'gage_height_quality']\n",
    "df_csv.drop(columns=[col for col in columns_to_drop if col in df_csv.columns], inplace=True)\n",
    "\n",
    "if list(df.columns) == list(df_csv.columns):\n",
    "    print(\"Headers are the same.\")\n",
    "else:\n",
    "    print(\"Headers are different.\")\n",
    "\n",
    "df_csv = pd.concat([df_csv, df], ignore_index=True)\n",
    "\n",
    "df_csv.drop_duplicates(subset=['datetime'], keep='last', inplace=True)\n",
    "\n",
    "save_path = 'yellowstone6192500.csv'\n",
    "if list(df.columns) == list(df_csv.columns):\n",
    "    df_csv.to_csv(save_path, index=False)\n",
    "else:\n",
    "    print(\"Stopped as headers are different.\")\n",
    "print(f\"Data saved to {save_path}\")"
   ]
  },
  {
   "cell_type": "markdown",
   "metadata": {},
   "source": [
    "# Fetch Snow Data"
   ]
  }
 ],
 "metadata": {
  "kernelspec": {
   "display_name": ".venv",
   "language": "python",
   "name": "python3"
  },
  "language_info": {
   "codemirror_mode": {
    "name": "ipython",
    "version": 3
   },
   "file_extension": ".py",
   "mimetype": "text/x-python",
   "name": "python",
   "nbconvert_exporter": "python",
   "pygments_lexer": "ipython3",
   "version": "3.12.3"
  }
 },
 "nbformat": 4,
 "nbformat_minor": 2
}
